{
 "cells": [
  {
   "cell_type": "markdown",
   "id": "b4cd1bc1",
   "metadata": {
    "slideshow": {
     "slide_type": "slide"
    }
   },
   "source": [
    "<h1><center>Intro to Pandas for Data Analysts</center></h1>\n",
    "<h3><center>(PART 1)</center></h3>\n",
    "\n",
    "![Pandas](images/pandas.png)\n"
   ]
  },
  {
   "cell_type": "markdown",
   "id": "5bbef502",
   "metadata": {
    "slideshow": {
     "slide_type": "slide"
    }
   },
   "source": [
    "## Agenda\n",
    "\n",
    "- How to fetch down a repo from Github (follow along) \n",
    "- Jupyter Interface (Hot Keys) \n",
    "- Pandas Package \n",
    "- Read in Data \n",
    "- Explore the Data \n",
    "- Summary Statistics \n",
    "- Data Visuals\n",
    "- Variables (Features)\n",
    "- Write out data to csv file "
   ]
  },
  {
   "cell_type": "markdown",
   "id": "30370bd5",
   "metadata": {
    "slideshow": {
     "slide_type": "slide"
    }
   },
   "source": [
    "## Jupyter Hot Keys (most work in Colab too!) \n",
    "\n",
    "- `esc` + `a` (add a cell above) \n",
    "- `esc` + `b` (add a cell below) \n",
    "- `esc` + `d` + `d` (delete a cell)\n",
    "- `esc` + `z` (undo)\n",
    "- `esc` + `m` (markdown cell for text) \n",
    "- `esc` + `y` (code cell)\n",
    "- `shift` + `return` (run a cell)\n",
    "\n",
    "**hitting `esc` + `h` or go to HELP in the navigation bar to view all shortcuts**"
   ]
  },
  {
   "cell_type": "markdown",
   "id": "873a93b5",
   "metadata": {
    "slideshow": {
     "slide_type": "slide"
    }
   },
   "source": [
    "## What is pandas \n",
    "\n",
    "- Pandas is a python **package** (or library) that has built in **data manipulation** and **data exploration** functionality \n",
    "- A **package** contains classes, objects, methods, and attributes (yes that's a lot) \n",
    "- **Packages** help us **NOT** reinvent the wheel and use code that has already been packaged up nicely for us :) \n",
    "\n",
    "- Pandas has **two** main **objects** -- `DataFrames` and `Series` \n",
    "- A DataFrame is a 2D-Matrix (it has rows and columns) \n",
    "- A Series is just a single column \n",
    "\n",
    "*Special Note:  Pandas is built off of Numpy*\n",
    "\n",
    "*Always view package documentation: [Documentation Here](https://pandas.pydata.org/docs/reference/frame.html)*"
   ]
  },
  {
   "cell_type": "markdown",
   "id": "fdb514f4",
   "metadata": {
    "slideshow": {
     "slide_type": "slide"
    }
   },
   "source": [
    "## What is an object\n",
    "\n",
    "- EVERYTHING...variables, models, packages, etc are all **objects**\n",
    "- **Objects** are essential in object-oriented programming \n",
    "- Objects are part of **classes** and have specific **methods** and **attributes**\n",
    "- **Methods** are like actions \n",
    "- **Attributes** are like properties or characteristics \n",
    "\n",
    "- As said above we will be using **methods** and **attributes** that apply to **DataFrames** or **Series** objects \n",
    "\n",
    "\n",
    "![Basketball-OOP](images/oop.png)"
   ]
  },
  {
   "cell_type": "markdown",
   "id": "497a6010",
   "metadata": {
    "slideshow": {
     "slide_type": "slide"
    }
   },
   "source": [
    "## The DATA \n",
    "\n",
    "- Dataset is the `students.csv` file in the data folder taken from [Kaggle](https://www.kaggle.com/datasets/erqizhou/students-data-analysis?resource=download)\n",
    "- It is a fictional dataset, however, the goal is to analyze the data to see what may impact a student's probability in applying for graduate school \n",
    "- Race is a censored feature (still may be useful)\n",
    "- Assume the higher the math score the better the academic performance in that math subject \n",
    "- `form1-form4` columns are censored and represents a students background (data dictionary can be found on Kaggle link above)\n",
    "\n",
    "- The target variable, y, is 0: failed to apply, 1: applied within country, 2: applied abroad"
   ]
  },
  {
   "cell_type": "markdown",
   "id": "ebbda358",
   "metadata": {
    "slideshow": {
     "slide_type": "subslide"
    }
   },
   "source": [
    "### Step 1:  Import pandas package "
   ]
  },
  {
   "cell_type": "code",
   "execution_count": 1,
   "id": "3cfb684c",
   "metadata": {
    "slideshow": {
     "slide_type": "fragment"
    }
   },
   "outputs": [],
   "source": [
    "#pd is considered an alias so we don't have to type pandas each time\n",
    "\n",
    "import pandas as pd "
   ]
  },
  {
   "cell_type": "markdown",
   "id": "54c1d0f5",
   "metadata": {
    "slideshow": {
     "slide_type": "slide"
    }
   },
   "source": [
    "### Step 2:  Read in a `.csv` file as a Pandas DataFrame Object "
   ]
  },
  {
   "cell_type": "code",
   "execution_count": 2,
   "id": "6ad07dee",
   "metadata": {
    "slideshow": {
     "slide_type": "fragment"
    }
   },
   "outputs": [],
   "source": [
    "students = pd.read_csv('data/students.csv')"
   ]
  },
  {
   "cell_type": "markdown",
   "id": "3b3b657e",
   "metadata": {
    "slideshow": {
     "slide_type": "slide"
    }
   },
   "source": [
    "### Step 3: Explore the data \n",
    "\n",
    "- We will use **METHODS** first\n",
    "\n",
    "*Recall:  Many methods end with a set of parentheses and perform some ACTION* \n",
    "\n",
    "First we will look at the **top** and **bottom** of the DataFrame"
   ]
  },
  {
   "cell_type": "code",
   "execution_count": 3,
   "id": "2ff4d8c2",
   "metadata": {
    "slideshow": {
     "slide_type": "fragment"
    }
   },
   "outputs": [
    {
     "data": {
      "text/html": [
       "<div>\n",
       "<style scoped>\n",
       "    .dataframe tbody tr th:only-of-type {\n",
       "        vertical-align: middle;\n",
       "    }\n",
       "\n",
       "    .dataframe tbody tr th {\n",
       "        vertical-align: top;\n",
       "    }\n",
       "\n",
       "    .dataframe thead th {\n",
       "        text-align: right;\n",
       "    }\n",
       "</style>\n",
       "<table border=\"1\" class=\"dataframe\">\n",
       "  <thead>\n",
       "    <tr style=\"text-align: right;\">\n",
       "      <th></th>\n",
       "      <th>ID</th>\n",
       "      <th>class</th>\n",
       "      <th>gender</th>\n",
       "      <th>race</th>\n",
       "      <th>GPA</th>\n",
       "      <th>Algebra</th>\n",
       "      <th>Calculus1</th>\n",
       "      <th>Calculus2</th>\n",
       "      <th>Statistics</th>\n",
       "      <th>Probability</th>\n",
       "      <th>Measure</th>\n",
       "      <th>Functional_analysis</th>\n",
       "      <th>from1</th>\n",
       "      <th>from2</th>\n",
       "      <th>from3</th>\n",
       "      <th>from4</th>\n",
       "      <th>y</th>\n",
       "    </tr>\n",
       "  </thead>\n",
       "  <tbody>\n",
       "    <tr>\n",
       "      <th>0</th>\n",
       "      <td>1141</td>\n",
       "      <td>A</td>\n",
       "      <td>male</td>\n",
       "      <td>1</td>\n",
       "      <td>73.47</td>\n",
       "      <td>64</td>\n",
       "      <td>81</td>\n",
       "      <td>87</td>\n",
       "      <td>60</td>\n",
       "      <td>74</td>\n",
       "      <td>71</td>\n",
       "      <td>60</td>\n",
       "      <td>A</td>\n",
       "      <td>A</td>\n",
       "      <td>A</td>\n",
       "      <td>3</td>\n",
       "      <td>0</td>\n",
       "    </tr>\n",
       "    <tr>\n",
       "      <th>1</th>\n",
       "      <td>1142</td>\n",
       "      <td>A</td>\n",
       "      <td>female</td>\n",
       "      <td>1</td>\n",
       "      <td>71.22</td>\n",
       "      <td>57</td>\n",
       "      <td>50</td>\n",
       "      <td>51</td>\n",
       "      <td>51</td>\n",
       "      <td>55</td>\n",
       "      <td>62</td>\n",
       "      <td>61</td>\n",
       "      <td>B</td>\n",
       "      <td>A</td>\n",
       "      <td>A</td>\n",
       "      <td>2</td>\n",
       "      <td>0</td>\n",
       "    </tr>\n",
       "    <tr>\n",
       "      <th>2</th>\n",
       "      <td>1143</td>\n",
       "      <td>A</td>\n",
       "      <td>female</td>\n",
       "      <td>2</td>\n",
       "      <td>74.56</td>\n",
       "      <td>47</td>\n",
       "      <td>48</td>\n",
       "      <td>71</td>\n",
       "      <td>60</td>\n",
       "      <td>61</td>\n",
       "      <td>68</td>\n",
       "      <td>64</td>\n",
       "      <td>C</td>\n",
       "      <td>A</td>\n",
       "      <td>A</td>\n",
       "      <td>0</td>\n",
       "      <td>1</td>\n",
       "    </tr>\n",
       "    <tr>\n",
       "      <th>3</th>\n",
       "      <td>1144</td>\n",
       "      <td>A</td>\n",
       "      <td>female</td>\n",
       "      <td>1</td>\n",
       "      <td>72.89</td>\n",
       "      <td>46</td>\n",
       "      <td>72</td>\n",
       "      <td>38</td>\n",
       "      <td>60</td>\n",
       "      <td>29</td>\n",
       "      <td>54</td>\n",
       "      <td>51</td>\n",
       "      <td>D</td>\n",
       "      <td>A</td>\n",
       "      <td>A</td>\n",
       "      <td>0</td>\n",
       "      <td>0</td>\n",
       "    </tr>\n",
       "    <tr>\n",
       "      <th>4</th>\n",
       "      <td>1145</td>\n",
       "      <td>A</td>\n",
       "      <td>female</td>\n",
       "      <td>1</td>\n",
       "      <td>70.11</td>\n",
       "      <td>49</td>\n",
       "      <td>45</td>\n",
       "      <td>63</td>\n",
       "      <td>60</td>\n",
       "      <td>66</td>\n",
       "      <td>66</td>\n",
       "      <td>61</td>\n",
       "      <td>E</td>\n",
       "      <td>A</td>\n",
       "      <td>A</td>\n",
       "      <td>0</td>\n",
       "      <td>0</td>\n",
       "    </tr>\n",
       "  </tbody>\n",
       "</table>\n",
       "</div>"
      ],
      "text/plain": [
       "     ID class  gender  race    GPA  Algebra  Calculus1  Calculus2  Statistics  \\\n",
       "0  1141     A    male     1  73.47       64         81         87          60   \n",
       "1  1142     A  female     1  71.22       57         50         51          51   \n",
       "2  1143     A  female     2  74.56       47         48         71          60   \n",
       "3  1144     A  female     1  72.89       46         72         38          60   \n",
       "4  1145     A  female     1  70.11       49         45         63          60   \n",
       "\n",
       "   Probability  Measure  Functional_analysis from1 from2 from3  from4  y  \n",
       "0           74       71                   60     A     A     A      3  0  \n",
       "1           55       62                   61     B     A     A      2  0  \n",
       "2           61       68                   64     C     A     A      0  1  \n",
       "3           29       54                   51     D     A     A      0  0  \n",
       "4           66       66                   61     E     A     A      0  0  "
      ]
     },
     "execution_count": 3,
     "metadata": {},
     "output_type": "execute_result"
    }
   ],
   "source": [
    "students.head()"
   ]
  },
  {
   "cell_type": "code",
   "execution_count": 4,
   "id": "02f1e0fc",
   "metadata": {
    "slideshow": {
     "slide_type": "fragment"
    }
   },
   "outputs": [
    {
     "data": {
      "text/html": [
       "<div>\n",
       "<style scoped>\n",
       "    .dataframe tbody tr th:only-of-type {\n",
       "        vertical-align: middle;\n",
       "    }\n",
       "\n",
       "    .dataframe tbody tr th {\n",
       "        vertical-align: top;\n",
       "    }\n",
       "\n",
       "    .dataframe thead th {\n",
       "        text-align: right;\n",
       "    }\n",
       "</style>\n",
       "<table border=\"1\" class=\"dataframe\">\n",
       "  <thead>\n",
       "    <tr style=\"text-align: right;\">\n",
       "      <th></th>\n",
       "      <th>ID</th>\n",
       "      <th>class</th>\n",
       "      <th>gender</th>\n",
       "      <th>race</th>\n",
       "      <th>GPA</th>\n",
       "      <th>Algebra</th>\n",
       "      <th>Calculus1</th>\n",
       "      <th>Calculus2</th>\n",
       "      <th>Statistics</th>\n",
       "      <th>Probability</th>\n",
       "      <th>Measure</th>\n",
       "      <th>Functional_analysis</th>\n",
       "      <th>from1</th>\n",
       "      <th>from2</th>\n",
       "      <th>from3</th>\n",
       "      <th>from4</th>\n",
       "      <th>y</th>\n",
       "    </tr>\n",
       "  </thead>\n",
       "  <tbody>\n",
       "    <tr>\n",
       "      <th>100</th>\n",
       "      <td>1241</td>\n",
       "      <td>A</td>\n",
       "      <td>female</td>\n",
       "      <td>1</td>\n",
       "      <td>88.34</td>\n",
       "      <td>87</td>\n",
       "      <td>83</td>\n",
       "      <td>92</td>\n",
       "      <td>98</td>\n",
       "      <td>93</td>\n",
       "      <td>86</td>\n",
       "      <td>90</td>\n",
       "      <td>M</td>\n",
       "      <td>B</td>\n",
       "      <td>A</td>\n",
       "      <td>0</td>\n",
       "      <td>1</td>\n",
       "    </tr>\n",
       "    <tr>\n",
       "      <th>101</th>\n",
       "      <td>1242</td>\n",
       "      <td>B</td>\n",
       "      <td>male</td>\n",
       "      <td>1</td>\n",
       "      <td>89.84</td>\n",
       "      <td>98</td>\n",
       "      <td>77</td>\n",
       "      <td>95</td>\n",
       "      <td>98</td>\n",
       "      <td>96</td>\n",
       "      <td>88</td>\n",
       "      <td>100</td>\n",
       "      <td>A</td>\n",
       "      <td>B</td>\n",
       "      <td>A</td>\n",
       "      <td>0</td>\n",
       "      <td>1</td>\n",
       "    </tr>\n",
       "    <tr>\n",
       "      <th>102</th>\n",
       "      <td>1243</td>\n",
       "      <td>B</td>\n",
       "      <td>male</td>\n",
       "      <td>1</td>\n",
       "      <td>88.82</td>\n",
       "      <td>83</td>\n",
       "      <td>80</td>\n",
       "      <td>91</td>\n",
       "      <td>98</td>\n",
       "      <td>93</td>\n",
       "      <td>95</td>\n",
       "      <td>71</td>\n",
       "      <td>T</td>\n",
       "      <td>B</td>\n",
       "      <td>A</td>\n",
       "      <td>0</td>\n",
       "      <td>2</td>\n",
       "    </tr>\n",
       "    <tr>\n",
       "      <th>103</th>\n",
       "      <td>1244</td>\n",
       "      <td>A</td>\n",
       "      <td>male</td>\n",
       "      <td>1</td>\n",
       "      <td>86.60</td>\n",
       "      <td>92</td>\n",
       "      <td>82</td>\n",
       "      <td>91</td>\n",
       "      <td>99</td>\n",
       "      <td>94</td>\n",
       "      <td>82</td>\n",
       "      <td>78</td>\n",
       "      <td>S</td>\n",
       "      <td>B</td>\n",
       "      <td>A</td>\n",
       "      <td>0</td>\n",
       "      <td>2</td>\n",
       "    </tr>\n",
       "    <tr>\n",
       "      <th>104</th>\n",
       "      <td>1245</td>\n",
       "      <td>A</td>\n",
       "      <td>male</td>\n",
       "      <td>1</td>\n",
       "      <td>93.71</td>\n",
       "      <td>93</td>\n",
       "      <td>97</td>\n",
       "      <td>99</td>\n",
       "      <td>100</td>\n",
       "      <td>97</td>\n",
       "      <td>90</td>\n",
       "      <td>90</td>\n",
       "      <td>K</td>\n",
       "      <td>B</td>\n",
       "      <td>A</td>\n",
       "      <td>0</td>\n",
       "      <td>2</td>\n",
       "    </tr>\n",
       "  </tbody>\n",
       "</table>\n",
       "</div>"
      ],
      "text/plain": [
       "       ID class  gender  race    GPA  Algebra  Calculus1  Calculus2  \\\n",
       "100  1241     A  female     1  88.34       87         83         92   \n",
       "101  1242     B    male     1  89.84       98         77         95   \n",
       "102  1243     B    male     1  88.82       83         80         91   \n",
       "103  1244     A    male     1  86.60       92         82         91   \n",
       "104  1245     A    male     1  93.71       93         97         99   \n",
       "\n",
       "     Statistics  Probability  Measure  Functional_analysis from1 from2 from3  \\\n",
       "100          98           93       86                   90     M     B     A   \n",
       "101          98           96       88                  100     A     B     A   \n",
       "102          98           93       95                   71     T     B     A   \n",
       "103          99           94       82                   78     S     B     A   \n",
       "104         100           97       90                   90     K     B     A   \n",
       "\n",
       "     from4  y  \n",
       "100      0  1  \n",
       "101      0  1  \n",
       "102      0  2  \n",
       "103      0  2  \n",
       "104      0  2  "
      ]
     },
     "execution_count": 4,
     "metadata": {},
     "output_type": "execute_result"
    }
   ],
   "source": [
    "students.tail()"
   ]
  },
  {
   "cell_type": "markdown",
   "id": "0642dc49",
   "metadata": {
    "slideshow": {
     "slide_type": "slide"
    }
   },
   "source": [
    "Next let's explore some INFORMATION about the data using the `.info()` method.  Can you think of how we would code this?"
   ]
  },
  {
   "cell_type": "code",
   "execution_count": 5,
   "id": "91d586c9",
   "metadata": {
    "slideshow": {
     "slide_type": "fragment"
    }
   },
   "outputs": [
    {
     "name": "stdout",
     "output_type": "stream",
     "text": [
      "<class 'pandas.core.frame.DataFrame'>\n",
      "RangeIndex: 105 entries, 0 to 104\n",
      "Data columns (total 17 columns):\n",
      " #   Column               Non-Null Count  Dtype  \n",
      "---  ------               --------------  -----  \n",
      " 0   ID                   105 non-null    int64  \n",
      " 1   class                105 non-null    object \n",
      " 2   gender               105 non-null    object \n",
      " 3   race                 105 non-null    int64  \n",
      " 4   GPA                  105 non-null    float64\n",
      " 5   Algebra              105 non-null    int64  \n",
      " 6   Calculus1            105 non-null    int64  \n",
      " 7   Calculus2            105 non-null    int64  \n",
      " 8   Statistics           105 non-null    int64  \n",
      " 9   Probability          105 non-null    int64  \n",
      " 10  Measure              105 non-null    int64  \n",
      " 11  Functional_analysis  105 non-null    int64  \n",
      " 12  from1                105 non-null    object \n",
      " 13  from2                105 non-null    object \n",
      " 14  from3                105 non-null    object \n",
      " 15  from4                105 non-null    int64  \n",
      " 16  y                    105 non-null    int64  \n",
      "dtypes: float64(1), int64(11), object(5)\n",
      "memory usage: 14.1+ KB\n"
     ]
    }
   ],
   "source": [
    "#Use .info() to explore the data \n",
    "students.info()\n"
   ]
  },
  {
   "cell_type": "markdown",
   "id": "c4ec94ae",
   "metadata": {
    "slideshow": {
     "slide_type": "fragment"
    }
   },
   "source": [
    "What all does the info method tell you?\n",
    "Are there any missing values?\n",
    "Do Datatypes make sense? \n",
    "\n",
    "\n",
    "Write some markdown in this block"
   ]
  },
  {
   "cell_type": "markdown",
   "id": "adcb1ca9",
   "metadata": {
    "slideshow": {
     "slide_type": "slide"
    }
   },
   "source": [
    "Now let's look at some **ATTRIBUTES** (properties)\n",
    "\n",
    "*Recall many attributes don't end with closing parentheses and are characteristics of an object.  The object is still a dataframe*\n",
    "\n",
    "We will start by using the `.shape` attribute."
   ]
  },
  {
   "cell_type": "code",
   "execution_count": 6,
   "id": "7cf93f63",
   "metadata": {
    "slideshow": {
     "slide_type": "fragment"
    }
   },
   "outputs": [
    {
     "data": {
      "text/plain": [
       "(105, 17)"
      ]
     },
     "execution_count": 6,
     "metadata": {},
     "output_type": "execute_result"
    }
   ],
   "source": [
    "students.shape\n",
    "\n",
    "#What is the output telling you? "
   ]
  },
  {
   "cell_type": "markdown",
   "id": "ad9f57b1",
   "metadata": {
    "slideshow": {
     "slide_type": "slide"
    }
   },
   "source": [
    "Now, look at the `.columns` attribute.  What is the output?"
   ]
  },
  {
   "cell_type": "code",
   "execution_count": 7,
   "id": "86842e0e",
   "metadata": {
    "slideshow": {
     "slide_type": "fragment"
    }
   },
   "outputs": [
    {
     "data": {
      "text/plain": [
       "Index(['ID', 'class', 'gender', 'race', 'GPA', 'Algebra', 'Calculus1',\n",
       "       'Calculus2', 'Statistics', 'Probability', 'Measure',\n",
       "       'Functional_analysis', 'from1', 'from2', 'from3', 'from4', 'y'],\n",
       "      dtype='object')"
      ]
     },
     "execution_count": 7,
     "metadata": {},
     "output_type": "execute_result"
    }
   ],
   "source": [
    "#Use .columns on the students data \n",
    "students.columns"
   ]
  },
  {
   "cell_type": "markdown",
   "id": "6017345e",
   "metadata": {
    "slideshow": {
     "slide_type": "slide"
    }
   },
   "source": [
    "### Step 4:  Use Statistical Summaries to further explore the data\n",
    "\n",
    "- Summary statistics usually include the count, min, max, standard deviation, mean, and more \n",
    "- It is important to look at summary statistics across many subsets of your data (stats by group, gender, location, etc.) \n",
    "\n",
    "We will start by using the `.describe` method to obtain summary stats for numeric features "
   ]
  },
  {
   "cell_type": "code",
   "execution_count": 8,
   "id": "b6b60dca",
   "metadata": {
    "slideshow": {
     "slide_type": "fragment"
    }
   },
   "outputs": [
    {
     "data": {
      "text/html": [
       "<div>\n",
       "<style scoped>\n",
       "    .dataframe tbody tr th:only-of-type {\n",
       "        vertical-align: middle;\n",
       "    }\n",
       "\n",
       "    .dataframe tbody tr th {\n",
       "        vertical-align: top;\n",
       "    }\n",
       "\n",
       "    .dataframe thead th {\n",
       "        text-align: right;\n",
       "    }\n",
       "</style>\n",
       "<table border=\"1\" class=\"dataframe\">\n",
       "  <thead>\n",
       "    <tr style=\"text-align: right;\">\n",
       "      <th></th>\n",
       "      <th>count</th>\n",
       "      <th>mean</th>\n",
       "      <th>std</th>\n",
       "      <th>min</th>\n",
       "      <th>25%</th>\n",
       "      <th>50%</th>\n",
       "      <th>75%</th>\n",
       "      <th>max</th>\n",
       "    </tr>\n",
       "  </thead>\n",
       "  <tbody>\n",
       "    <tr>\n",
       "      <th>ID</th>\n",
       "      <td>105.0</td>\n",
       "      <td>1193.000000</td>\n",
       "      <td>30.454885</td>\n",
       "      <td>1141.00</td>\n",
       "      <td>1167.00</td>\n",
       "      <td>1193.00</td>\n",
       "      <td>1219.0</td>\n",
       "      <td>1245.00</td>\n",
       "    </tr>\n",
       "    <tr>\n",
       "      <th>race</th>\n",
       "      <td>105.0</td>\n",
       "      <td>1.790476</td>\n",
       "      <td>1.673867</td>\n",
       "      <td>1.00</td>\n",
       "      <td>1.00</td>\n",
       "      <td>1.00</td>\n",
       "      <td>1.0</td>\n",
       "      <td>7.00</td>\n",
       "    </tr>\n",
       "    <tr>\n",
       "      <th>GPA</th>\n",
       "      <td>105.0</td>\n",
       "      <td>82.957048</td>\n",
       "      <td>6.053187</td>\n",
       "      <td>63.49</td>\n",
       "      <td>79.34</td>\n",
       "      <td>84.11</td>\n",
       "      <td>87.3</td>\n",
       "      <td>93.71</td>\n",
       "    </tr>\n",
       "    <tr>\n",
       "      <th>Algebra</th>\n",
       "      <td>105.0</td>\n",
       "      <td>76.057143</td>\n",
       "      <td>11.722618</td>\n",
       "      <td>46.00</td>\n",
       "      <td>67.00</td>\n",
       "      <td>76.00</td>\n",
       "      <td>84.0</td>\n",
       "      <td>98.00</td>\n",
       "    </tr>\n",
       "    <tr>\n",
       "      <th>Calculus1</th>\n",
       "      <td>105.0</td>\n",
       "      <td>71.961905</td>\n",
       "      <td>12.197039</td>\n",
       "      <td>38.00</td>\n",
       "      <td>64.00</td>\n",
       "      <td>73.00</td>\n",
       "      <td>80.0</td>\n",
       "      <td>100.00</td>\n",
       "    </tr>\n",
       "    <tr>\n",
       "      <th>Calculus2</th>\n",
       "      <td>105.0</td>\n",
       "      <td>78.942857</td>\n",
       "      <td>14.997326</td>\n",
       "      <td>17.00</td>\n",
       "      <td>71.00</td>\n",
       "      <td>83.00</td>\n",
       "      <td>91.0</td>\n",
       "      <td>99.00</td>\n",
       "    </tr>\n",
       "    <tr>\n",
       "      <th>Statistics</th>\n",
       "      <td>105.0</td>\n",
       "      <td>85.133333</td>\n",
       "      <td>10.269509</td>\n",
       "      <td>51.00</td>\n",
       "      <td>80.00</td>\n",
       "      <td>87.00</td>\n",
       "      <td>92.0</td>\n",
       "      <td>100.00</td>\n",
       "    </tr>\n",
       "    <tr>\n",
       "      <th>Probability</th>\n",
       "      <td>105.0</td>\n",
       "      <td>83.876190</td>\n",
       "      <td>10.514363</td>\n",
       "      <td>29.00</td>\n",
       "      <td>79.00</td>\n",
       "      <td>85.00</td>\n",
       "      <td>92.0</td>\n",
       "      <td>97.00</td>\n",
       "    </tr>\n",
       "    <tr>\n",
       "      <th>Measure</th>\n",
       "      <td>105.0</td>\n",
       "      <td>80.761905</td>\n",
       "      <td>10.296119</td>\n",
       "      <td>54.00</td>\n",
       "      <td>74.00</td>\n",
       "      <td>81.00</td>\n",
       "      <td>89.0</td>\n",
       "      <td>100.00</td>\n",
       "    </tr>\n",
       "    <tr>\n",
       "      <th>Functional_analysis</th>\n",
       "      <td>105.0</td>\n",
       "      <td>75.323810</td>\n",
       "      <td>13.003324</td>\n",
       "      <td>9.00</td>\n",
       "      <td>67.00</td>\n",
       "      <td>76.00</td>\n",
       "      <td>85.0</td>\n",
       "      <td>100.00</td>\n",
       "    </tr>\n",
       "    <tr>\n",
       "      <th>from4</th>\n",
       "      <td>105.0</td>\n",
       "      <td>0.504762</td>\n",
       "      <td>0.889293</td>\n",
       "      <td>0.00</td>\n",
       "      <td>0.00</td>\n",
       "      <td>0.00</td>\n",
       "      <td>0.0</td>\n",
       "      <td>3.00</td>\n",
       "    </tr>\n",
       "    <tr>\n",
       "      <th>y</th>\n",
       "      <td>105.0</td>\n",
       "      <td>0.714286</td>\n",
       "      <td>0.828742</td>\n",
       "      <td>0.00</td>\n",
       "      <td>0.00</td>\n",
       "      <td>0.00</td>\n",
       "      <td>1.0</td>\n",
       "      <td>2.00</td>\n",
       "    </tr>\n",
       "  </tbody>\n",
       "</table>\n",
       "</div>"
      ],
      "text/plain": [
       "                     count         mean        std      min      25%      50%  \\\n",
       "ID                   105.0  1193.000000  30.454885  1141.00  1167.00  1193.00   \n",
       "race                 105.0     1.790476   1.673867     1.00     1.00     1.00   \n",
       "GPA                  105.0    82.957048   6.053187    63.49    79.34    84.11   \n",
       "Algebra              105.0    76.057143  11.722618    46.00    67.00    76.00   \n",
       "Calculus1            105.0    71.961905  12.197039    38.00    64.00    73.00   \n",
       "Calculus2            105.0    78.942857  14.997326    17.00    71.00    83.00   \n",
       "Statistics           105.0    85.133333  10.269509    51.00    80.00    87.00   \n",
       "Probability          105.0    83.876190  10.514363    29.00    79.00    85.00   \n",
       "Measure              105.0    80.761905  10.296119    54.00    74.00    81.00   \n",
       "Functional_analysis  105.0    75.323810  13.003324     9.00    67.00    76.00   \n",
       "from4                105.0     0.504762   0.889293     0.00     0.00     0.00   \n",
       "y                    105.0     0.714286   0.828742     0.00     0.00     0.00   \n",
       "\n",
       "                        75%      max  \n",
       "ID                   1219.0  1245.00  \n",
       "race                    1.0     7.00  \n",
       "GPA                    87.3    93.71  \n",
       "Algebra                84.0    98.00  \n",
       "Calculus1              80.0   100.00  \n",
       "Calculus2              91.0    99.00  \n",
       "Statistics             92.0   100.00  \n",
       "Probability            92.0    97.00  \n",
       "Measure                89.0   100.00  \n",
       "Functional_analysis    85.0   100.00  \n",
       "from4                   0.0     3.00  \n",
       "y                       1.0     2.00  "
      ]
     },
     "execution_count": 8,
     "metadata": {},
     "output_type": "execute_result"
    }
   ],
   "source": [
    "#T means transpose -- flip the rows and columns \n",
    "\n",
    "students.describe().T\n",
    "\n",
    "#Anything stand out? Add a markdown cell and write out your main takeaways "
   ]
  },
  {
   "cell_type": "markdown",
   "id": "3d34f04c",
   "metadata": {
    "slideshow": {
     "slide_type": "slide"
    }
   },
   "source": [
    "The `.crosstab` function can be used to create frequency tables for categorical variables. You can call a specific variable using this syntax: \n",
    "\n",
    "**dataframe['ColumnName']**\n",
    "\n",
    "Let's create a crosstab of `gender` and `class`"
   ]
  },
  {
   "cell_type": "code",
   "execution_count": 9,
   "id": "2c97c4df",
   "metadata": {
    "slideshow": {
     "slide_type": "fragment"
    }
   },
   "outputs": [
    {
     "data": {
      "text/html": [
       "<div>\n",
       "<style scoped>\n",
       "    .dataframe tbody tr th:only-of-type {\n",
       "        vertical-align: middle;\n",
       "    }\n",
       "\n",
       "    .dataframe tbody tr th {\n",
       "        vertical-align: top;\n",
       "    }\n",
       "\n",
       "    .dataframe thead th {\n",
       "        text-align: right;\n",
       "    }\n",
       "</style>\n",
       "<table border=\"1\" class=\"dataframe\">\n",
       "  <thead>\n",
       "    <tr style=\"text-align: right;\">\n",
       "      <th>class</th>\n",
       "      <th>A</th>\n",
       "      <th>B</th>\n",
       "    </tr>\n",
       "    <tr>\n",
       "      <th>gender</th>\n",
       "      <th></th>\n",
       "      <th></th>\n",
       "    </tr>\n",
       "  </thead>\n",
       "  <tbody>\n",
       "    <tr>\n",
       "      <th>female</th>\n",
       "      <td>48</td>\n",
       "      <td>20</td>\n",
       "    </tr>\n",
       "    <tr>\n",
       "      <th>male</th>\n",
       "      <td>28</td>\n",
       "      <td>9</td>\n",
       "    </tr>\n",
       "  </tbody>\n",
       "</table>\n",
       "</div>"
      ],
      "text/plain": [
       "class    A   B\n",
       "gender        \n",
       "female  48  20\n",
       "male    28   9"
      ]
     },
     "execution_count": 9,
     "metadata": {},
     "output_type": "execute_result"
    }
   ],
   "source": [
    "#Creates a crosstab of gender and class \n",
    "\n",
    "pd.crosstab(students[\"gender\"], students[\"class\"])"
   ]
  },
  {
   "cell_type": "markdown",
   "id": "9f12cb38",
   "metadata": {
    "slideshow": {
     "slide_type": "slide"
    }
   },
   "source": [
    "The `.groupby()` method allows you to get summary statistics of a categorical variable. Combining this with a statistical measure function (i.e. `.mean()`, `.max()`, `.sum()`, etc) will give you that summary across all features  \n",
    "\n",
    "Let's groupby `class`"
   ]
  },
  {
   "cell_type": "code",
   "execution_count": 10,
   "id": "9a1d7db4",
   "metadata": {
    "slideshow": {
     "slide_type": "fragment"
    }
   },
   "outputs": [
    {
     "name": "stderr",
     "output_type": "stream",
     "text": [
      "<ipython-input-10-47bcac83d4ff>:1: FutureWarning: The default value of numeric_only in DataFrameGroupBy.mean is deprecated. In a future version, numeric_only will default to False. Either specify numeric_only or select only columns which should be valid for the function.\n",
      "  students.groupby(by='class').mean()\n"
     ]
    },
    {
     "data": {
      "text/html": [
       "<div>\n",
       "<style scoped>\n",
       "    .dataframe tbody tr th:only-of-type {\n",
       "        vertical-align: middle;\n",
       "    }\n",
       "\n",
       "    .dataframe tbody tr th {\n",
       "        vertical-align: top;\n",
       "    }\n",
       "\n",
       "    .dataframe thead th {\n",
       "        text-align: right;\n",
       "    }\n",
       "</style>\n",
       "<table border=\"1\" class=\"dataframe\">\n",
       "  <thead>\n",
       "    <tr style=\"text-align: right;\">\n",
       "      <th></th>\n",
       "      <th>ID</th>\n",
       "      <th>race</th>\n",
       "      <th>GPA</th>\n",
       "      <th>Algebra</th>\n",
       "      <th>Calculus1</th>\n",
       "      <th>Calculus2</th>\n",
       "      <th>Statistics</th>\n",
       "      <th>Probability</th>\n",
       "      <th>Measure</th>\n",
       "      <th>Functional_analysis</th>\n",
       "      <th>from4</th>\n",
       "      <th>y</th>\n",
       "    </tr>\n",
       "    <tr>\n",
       "      <th>class</th>\n",
       "      <th></th>\n",
       "      <th></th>\n",
       "      <th></th>\n",
       "      <th></th>\n",
       "      <th></th>\n",
       "      <th></th>\n",
       "      <th></th>\n",
       "      <th></th>\n",
       "      <th></th>\n",
       "      <th></th>\n",
       "      <th></th>\n",
       "      <th></th>\n",
       "    </tr>\n",
       "  </thead>\n",
       "  <tbody>\n",
       "    <tr>\n",
       "      <th>A</th>\n",
       "      <td>1193.973684</td>\n",
       "      <td>1.842105</td>\n",
       "      <td>82.844605</td>\n",
       "      <td>75.934211</td>\n",
       "      <td>72.697368</td>\n",
       "      <td>78.565789</td>\n",
       "      <td>85.131579</td>\n",
       "      <td>83.131579</td>\n",
       "      <td>80.697368</td>\n",
       "      <td>75.144737</td>\n",
       "      <td>0.460526</td>\n",
       "      <td>0.763158</td>\n",
       "    </tr>\n",
       "    <tr>\n",
       "      <th>B</th>\n",
       "      <td>1190.448276</td>\n",
       "      <td>1.655172</td>\n",
       "      <td>83.251724</td>\n",
       "      <td>76.379310</td>\n",
       "      <td>70.034483</td>\n",
       "      <td>79.931034</td>\n",
       "      <td>85.137931</td>\n",
       "      <td>85.827586</td>\n",
       "      <td>80.931034</td>\n",
       "      <td>75.793103</td>\n",
       "      <td>0.620690</td>\n",
       "      <td>0.586207</td>\n",
       "    </tr>\n",
       "  </tbody>\n",
       "</table>\n",
       "</div>"
      ],
      "text/plain": [
       "                ID      race        GPA    Algebra  Calculus1  Calculus2  \\\n",
       "class                                                                      \n",
       "A      1193.973684  1.842105  82.844605  75.934211  72.697368  78.565789   \n",
       "B      1190.448276  1.655172  83.251724  76.379310  70.034483  79.931034   \n",
       "\n",
       "       Statistics  Probability    Measure  Functional_analysis     from4  \\\n",
       "class                                                                      \n",
       "A       85.131579    83.131579  80.697368            75.144737  0.460526   \n",
       "B       85.137931    85.827586  80.931034            75.793103  0.620690   \n",
       "\n",
       "              y  \n",
       "class            \n",
       "A      0.763158  \n",
       "B      0.586207  "
      ]
     },
     "execution_count": 10,
     "metadata": {},
     "output_type": "execute_result"
    }
   ],
   "source": [
    "students.groupby(by='class').mean()"
   ]
  },
  {
   "cell_type": "markdown",
   "id": "4c8c90e5",
   "metadata": {
    "slideshow": {
     "slide_type": "slide"
    }
   },
   "source": [
    "The `.value_counts()` function allows you to do a quick count of each level **WITHIN** a categorical variable. \n",
    "\n",
    "Let's look at the indicator variable, y "
   ]
  },
  {
   "cell_type": "code",
   "execution_count": 11,
   "id": "18dcf0a7",
   "metadata": {
    "slideshow": {
     "slide_type": "fragment"
    }
   },
   "outputs": [
    {
     "data": {
      "text/plain": [
       "0    55\n",
       "1    25\n",
       "2    25\n",
       "Name: y, dtype: int64"
      ]
     },
     "execution_count": 11,
     "metadata": {},
     "output_type": "execute_result"
    }
   ],
   "source": [
    "students['y'].value_counts()\n",
    "\n",
    "#What does this tell us? "
   ]
  },
  {
   "cell_type": "markdown",
   "id": "16b596f0",
   "metadata": {
    "slideshow": {
     "slide_type": "slide"
    }
   },
   "source": [
    "### Step 5: Visualize the data \n",
    "\n",
    "- Matplotlib is a foundational data viz package \n",
    "- A more 'fancier' package is Seaborn which is built off of Matplotlib \n",
    "- You can also plot using **pandas** \n",
    "- Visualizing data can help us tell **stories** and **data storytelling** is very important \n",
    "\n",
    "Let's use a **bar chart** to visualize the `class` and `gender` crosstab we created above"
   ]
  },
  {
   "cell_type": "code",
   "execution_count": 12,
   "id": "3f9d2ab4",
   "metadata": {
    "slideshow": {
     "slide_type": "fragment"
    }
   },
   "outputs": [],
   "source": [
    "#Importing just in case we need it but we will try plotting with pandas \n",
    "\n",
    "import matplotlib.pyplot as plt \n",
    "import seaborn as sns"
   ]
  },
  {
   "cell_type": "code",
   "execution_count": 13,
   "id": "167a925c",
   "metadata": {
    "scrolled": true,
    "slideshow": {
     "slide_type": "fragment"
    }
   },
   "outputs": [
    {
     "data": {
      "text/plain": [
       "<AxesSubplot:xlabel='class'>"
      ]
     },
     "execution_count": 13,
     "metadata": {},
     "output_type": "execute_result"
    },
    {
     "data": {
      "image/png": "[encoded data removed]",
      "text/plain": [
       "<Figure size 432x288 with 1 Axes>"
      ]
     },
     "metadata": {
      "needs_background": "light"
     },
     "output_type": "display_data"
    }
   ],
   "source": [
    "#Bar Chart Made in Pandas \n",
    "\n",
    "pd.crosstab(students['class'], students['gender']).plot(kind=\"bar\")"
   ]
  },
  {
   "cell_type": "markdown",
   "id": "01a38d86",
   "metadata": {
    "slideshow": {
     "slide_type": "subslide"
    }
   },
   "source": [
    "Let's create a boxplot of the `GPA` feature using seaborn"
   ]
  },
  {
   "cell_type": "code",
   "execution_count": 14,
   "id": "30253721",
   "metadata": {
    "slideshow": {
     "slide_type": "fragment"
    }
   },
   "outputs": [
    {
     "data": {
      "text/plain": [
       "<AxesSubplot:xlabel='GPA'>"
      ]
     },
     "execution_count": 14,
     "metadata": {},
     "output_type": "execute_result"
    },
    {
     "data": {
      "image/png": "[encoded data removed]",
      "text/plain": [
       "<Figure size 432x288 with 1 Axes>"
      ]
     },
     "metadata": {
      "needs_background": "light"
     },
     "output_type": "display_data"
    }
   ],
   "source": [
    "sns.boxplot(x=students[\"GPA\"])\n",
    "\n",
    "#Do we have any outliers?"
   ]
  },
  {
   "cell_type": "markdown",
   "id": "e882fef0",
   "metadata": {
    "slideshow": {
     "slide_type": "subslide"
    }
   },
   "source": [
    "And a histogram of the `GPA` variable using seaborn "
   ]
  },
  {
   "cell_type": "code",
   "execution_count": 15,
   "id": "c4aa76b9",
   "metadata": {
    "slideshow": {
     "slide_type": "fragment"
    }
   },
   "outputs": [
    {
     "data": {
      "text/plain": [
       "<AxesSubplot:xlabel='GPA', ylabel='Count'>"
      ]
     },
     "execution_count": 15,
     "metadata": {},
     "output_type": "execute_result"
    },
    {
     "data": {
      "image/png": "[encoded data removed]",
      "text/plain": [
       "<Figure size 432x288 with 1 Axes>"
      ]
     },
     "metadata": {
      "needs_background": "light"
     },
     "output_type": "display_data"
    }
   ],
   "source": [
    "sns.histplot(students[\"GPA\"])"
   ]
  },
  {
   "cell_type": "markdown",
   "id": "0a1af79a",
   "metadata": {
    "slideshow": {
     "slide_type": "subslide"
    }
   },
   "source": [
    "What about a scatterplot between `Calculus1` and `Calculus2` using matplotlib"
   ]
  },
  {
   "cell_type": "code",
   "execution_count": 16,
   "id": "77822887",
   "metadata": {
    "slideshow": {
     "slide_type": "fragment"
    }
   },
   "outputs": [
    {
     "data": {
      "image/png": "[encoded data removed]",
      "text/plain": [
       "<Figure size 432x288 with 1 Axes>"
      ]
     },
     "metadata": {
      "needs_background": "light"
     },
     "output_type": "display_data"
    }
   ],
   "source": [
    "fig, ax = plt.subplots()\n",
    "\n",
    "ax.scatter(students[\"Calculus1\"], students[\"Calculus2\"])\n",
    "plt.show()"
   ]
  },
  {
   "cell_type": "markdown",
   "id": "a5918110",
   "metadata": {
    "slideshow": {
     "slide_type": "slide"
    }
   },
   "source": [
    "### Step 6:  Creating Variables (Optional) \n",
    "\n",
    "- Let's create an average calculus performance variable for our data called `Avg_Calc`"
   ]
  },
  {
   "cell_type": "code",
   "execution_count": 17,
   "id": "bd7b60e4",
   "metadata": {
    "slideshow": {
     "slide_type": "fragment"
    }
   },
   "outputs": [],
   "source": [
    "\n",
    "students['Avg_Calc'] = (students['Calculus1'] + students['Calculus2'])/2\n",
    "\n",
    "#Did it work?"
   ]
  },
  {
   "cell_type": "code",
   "execution_count": 18,
   "id": "83581940",
   "metadata": {
    "slideshow": {
     "slide_type": "fragment"
    }
   },
   "outputs": [
    {
     "data": {
      "text/html": [
       "<div>\n",
       "<style scoped>\n",
       "    .dataframe tbody tr th:only-of-type {\n",
       "        vertical-align: middle;\n",
       "    }\n",
       "\n",
       "    .dataframe tbody tr th {\n",
       "        vertical-align: top;\n",
       "    }\n",
       "\n",
       "    .dataframe thead th {\n",
       "        text-align: right;\n",
       "    }\n",
       "</style>\n",
       "<table border=\"1\" class=\"dataframe\">\n",
       "  <thead>\n",
       "    <tr style=\"text-align: right;\">\n",
       "      <th></th>\n",
       "      <th>ID</th>\n",
       "      <th>class</th>\n",
       "      <th>gender</th>\n",
       "      <th>race</th>\n",
       "      <th>GPA</th>\n",
       "      <th>Algebra</th>\n",
       "      <th>Calculus1</th>\n",
       "      <th>Calculus2</th>\n",
       "      <th>Statistics</th>\n",
       "      <th>Probability</th>\n",
       "      <th>Measure</th>\n",
       "      <th>Functional_analysis</th>\n",
       "      <th>from1</th>\n",
       "      <th>from2</th>\n",
       "      <th>from3</th>\n",
       "      <th>from4</th>\n",
       "      <th>y</th>\n",
       "      <th>Avg_Calc</th>\n",
       "    </tr>\n",
       "  </thead>\n",
       "  <tbody>\n",
       "    <tr>\n",
       "      <th>0</th>\n",
       "      <td>1141</td>\n",
       "      <td>A</td>\n",
       "      <td>male</td>\n",
       "      <td>1</td>\n",
       "      <td>73.47</td>\n",
       "      <td>64</td>\n",
       "      <td>81</td>\n",
       "      <td>87</td>\n",
       "      <td>60</td>\n",
       "      <td>74</td>\n",
       "      <td>71</td>\n",
       "      <td>60</td>\n",
       "      <td>A</td>\n",
       "      <td>A</td>\n",
       "      <td>A</td>\n",
       "      <td>3</td>\n",
       "      <td>0</td>\n",
       "      <td>84.0</td>\n",
       "    </tr>\n",
       "    <tr>\n",
       "      <th>1</th>\n",
       "      <td>1142</td>\n",
       "      <td>A</td>\n",
       "      <td>female</td>\n",
       "      <td>1</td>\n",
       "      <td>71.22</td>\n",
       "      <td>57</td>\n",
       "      <td>50</td>\n",
       "      <td>51</td>\n",
       "      <td>51</td>\n",
       "      <td>55</td>\n",
       "      <td>62</td>\n",
       "      <td>61</td>\n",
       "      <td>B</td>\n",
       "      <td>A</td>\n",
       "      <td>A</td>\n",
       "      <td>2</td>\n",
       "      <td>0</td>\n",
       "      <td>50.5</td>\n",
       "    </tr>\n",
       "    <tr>\n",
       "      <th>2</th>\n",
       "      <td>1143</td>\n",
       "      <td>A</td>\n",
       "      <td>female</td>\n",
       "      <td>2</td>\n",
       "      <td>74.56</td>\n",
       "      <td>47</td>\n",
       "      <td>48</td>\n",
       "      <td>71</td>\n",
       "      <td>60</td>\n",
       "      <td>61</td>\n",
       "      <td>68</td>\n",
       "      <td>64</td>\n",
       "      <td>C</td>\n",
       "      <td>A</td>\n",
       "      <td>A</td>\n",
       "      <td>0</td>\n",
       "      <td>1</td>\n",
       "      <td>59.5</td>\n",
       "    </tr>\n",
       "    <tr>\n",
       "      <th>3</th>\n",
       "      <td>1144</td>\n",
       "      <td>A</td>\n",
       "      <td>female</td>\n",
       "      <td>1</td>\n",
       "      <td>72.89</td>\n",
       "      <td>46</td>\n",
       "      <td>72</td>\n",
       "      <td>38</td>\n",
       "      <td>60</td>\n",
       "      <td>29</td>\n",
       "      <td>54</td>\n",
       "      <td>51</td>\n",
       "      <td>D</td>\n",
       "      <td>A</td>\n",
       "      <td>A</td>\n",
       "      <td>0</td>\n",
       "      <td>0</td>\n",
       "      <td>55.0</td>\n",
       "    </tr>\n",
       "    <tr>\n",
       "      <th>4</th>\n",
       "      <td>1145</td>\n",
       "      <td>A</td>\n",
       "      <td>female</td>\n",
       "      <td>1</td>\n",
       "      <td>70.11</td>\n",
       "      <td>49</td>\n",
       "      <td>45</td>\n",
       "      <td>63</td>\n",
       "      <td>60</td>\n",
       "      <td>66</td>\n",
       "      <td>66</td>\n",
       "      <td>61</td>\n",
       "      <td>E</td>\n",
       "      <td>A</td>\n",
       "      <td>A</td>\n",
       "      <td>0</td>\n",
       "      <td>0</td>\n",
       "      <td>54.0</td>\n",
       "    </tr>\n",
       "  </tbody>\n",
       "</table>\n",
       "</div>"
      ],
      "text/plain": [
       "     ID class  gender  race    GPA  Algebra  Calculus1  Calculus2  Statistics  \\\n",
       "0  1141     A    male     1  73.47       64         81         87          60   \n",
       "1  1142     A  female     1  71.22       57         50         51          51   \n",
       "2  1143     A  female     2  74.56       47         48         71          60   \n",
       "3  1144     A  female     1  72.89       46         72         38          60   \n",
       "4  1145     A  female     1  70.11       49         45         63          60   \n",
       "\n",
       "   Probability  Measure  Functional_analysis from1 from2 from3  from4  y  \\\n",
       "0           74       71                   60     A     A     A      3  0   \n",
       "1           55       62                   61     B     A     A      2  0   \n",
       "2           61       68                   64     C     A     A      0  1   \n",
       "3           29       54                   51     D     A     A      0  0   \n",
       "4           66       66                   61     E     A     A      0  0   \n",
       "\n",
       "   Avg_Calc  \n",
       "0      84.0  \n",
       "1      50.5  \n",
       "2      59.5  \n",
       "3      55.0  \n",
       "4      54.0  "
      ]
     },
     "execution_count": 18,
     "metadata": {},
     "output_type": "execute_result"
    }
   ],
   "source": [
    "#Check the head of the data \n",
    "students.head()"
   ]
  },
  {
   "cell_type": "markdown",
   "id": "e80633db",
   "metadata": {
    "slideshow": {
     "slide_type": "slide"
    }
   },
   "source": [
    "### Step 7:  Dropping Variables (Optional) \n",
    "\n",
    "- Our client doesn't want to consider the class `Functional_analysis` for this project -- let's drop it using the `.drop()` method.\n",
    "\n",
    "- If we are dropping a **row** we use `axis = 0` as an argument within our drop function\n",
    "- If we are dropping a **column** we use `axis = 1` as an argument within our drop function "
   ]
  },
  {
   "cell_type": "code",
   "execution_count": 19,
   "id": "696a9e30",
   "metadata": {
    "slideshow": {
     "slide_type": "fragment"
    }
   },
   "outputs": [],
   "source": [
    "students = students.drop(\"Functional_analysis\", axis=1)\n",
    "\n",
    "#Did it work?"
   ]
  },
  {
   "cell_type": "code",
   "execution_count": 20,
   "id": "12723dd1",
   "metadata": {
    "slideshow": {
     "slide_type": "fragment"
    }
   },
   "outputs": [
    {
     "data": {
      "text/html": [
       "<div>\n",
       "<style scoped>\n",
       "    .dataframe tbody tr th:only-of-type {\n",
       "        vertical-align: middle;\n",
       "    }\n",
       "\n",
       "    .dataframe tbody tr th {\n",
       "        vertical-align: top;\n",
       "    }\n",
       "\n",
       "    .dataframe thead th {\n",
       "        text-align: right;\n",
       "    }\n",
       "</style>\n",
       "<table border=\"1\" class=\"dataframe\">\n",
       "  <thead>\n",
       "    <tr style=\"text-align: right;\">\n",
       "      <th></th>\n",
       "      <th>ID</th>\n",
       "      <th>class</th>\n",
       "      <th>gender</th>\n",
       "      <th>race</th>\n",
       "      <th>GPA</th>\n",
       "      <th>Algebra</th>\n",
       "      <th>Calculus1</th>\n",
       "      <th>Calculus2</th>\n",
       "      <th>Statistics</th>\n",
       "      <th>Probability</th>\n",
       "      <th>Measure</th>\n",
       "      <th>from1</th>\n",
       "      <th>from2</th>\n",
       "      <th>from3</th>\n",
       "      <th>from4</th>\n",
       "      <th>y</th>\n",
       "      <th>Avg_Calc</th>\n",
       "    </tr>\n",
       "  </thead>\n",
       "  <tbody>\n",
       "    <tr>\n",
       "      <th>0</th>\n",
       "      <td>1141</td>\n",
       "      <td>A</td>\n",
       "      <td>male</td>\n",
       "      <td>1</td>\n",
       "      <td>73.47</td>\n",
       "      <td>64</td>\n",
       "      <td>81</td>\n",
       "      <td>87</td>\n",
       "      <td>60</td>\n",
       "      <td>74</td>\n",
       "      <td>71</td>\n",
       "      <td>A</td>\n",
       "      <td>A</td>\n",
       "      <td>A</td>\n",
       "      <td>3</td>\n",
       "      <td>0</td>\n",
       "      <td>84.0</td>\n",
       "    </tr>\n",
       "    <tr>\n",
       "      <th>1</th>\n",
       "      <td>1142</td>\n",
       "      <td>A</td>\n",
       "      <td>female</td>\n",
       "      <td>1</td>\n",
       "      <td>71.22</td>\n",
       "      <td>57</td>\n",
       "      <td>50</td>\n",
       "      <td>51</td>\n",
       "      <td>51</td>\n",
       "      <td>55</td>\n",
       "      <td>62</td>\n",
       "      <td>B</td>\n",
       "      <td>A</td>\n",
       "      <td>A</td>\n",
       "      <td>2</td>\n",
       "      <td>0</td>\n",
       "      <td>50.5</td>\n",
       "    </tr>\n",
       "    <tr>\n",
       "      <th>2</th>\n",
       "      <td>1143</td>\n",
       "      <td>A</td>\n",
       "      <td>female</td>\n",
       "      <td>2</td>\n",
       "      <td>74.56</td>\n",
       "      <td>47</td>\n",
       "      <td>48</td>\n",
       "      <td>71</td>\n",
       "      <td>60</td>\n",
       "      <td>61</td>\n",
       "      <td>68</td>\n",
       "      <td>C</td>\n",
       "      <td>A</td>\n",
       "      <td>A</td>\n",
       "      <td>0</td>\n",
       "      <td>1</td>\n",
       "      <td>59.5</td>\n",
       "    </tr>\n",
       "    <tr>\n",
       "      <th>3</th>\n",
       "      <td>1144</td>\n",
       "      <td>A</td>\n",
       "      <td>female</td>\n",
       "      <td>1</td>\n",
       "      <td>72.89</td>\n",
       "      <td>46</td>\n",
       "      <td>72</td>\n",
       "      <td>38</td>\n",
       "      <td>60</td>\n",
       "      <td>29</td>\n",
       "      <td>54</td>\n",
       "      <td>D</td>\n",
       "      <td>A</td>\n",
       "      <td>A</td>\n",
       "      <td>0</td>\n",
       "      <td>0</td>\n",
       "      <td>55.0</td>\n",
       "    </tr>\n",
       "    <tr>\n",
       "      <th>4</th>\n",
       "      <td>1145</td>\n",
       "      <td>A</td>\n",
       "      <td>female</td>\n",
       "      <td>1</td>\n",
       "      <td>70.11</td>\n",
       "      <td>49</td>\n",
       "      <td>45</td>\n",
       "      <td>63</td>\n",
       "      <td>60</td>\n",
       "      <td>66</td>\n",
       "      <td>66</td>\n",
       "      <td>E</td>\n",
       "      <td>A</td>\n",
       "      <td>A</td>\n",
       "      <td>0</td>\n",
       "      <td>0</td>\n",
       "      <td>54.0</td>\n",
       "    </tr>\n",
       "  </tbody>\n",
       "</table>\n",
       "</div>"
      ],
      "text/plain": [
       "     ID class  gender  race    GPA  Algebra  Calculus1  Calculus2  Statistics  \\\n",
       "0  1141     A    male     1  73.47       64         81         87          60   \n",
       "1  1142     A  female     1  71.22       57         50         51          51   \n",
       "2  1143     A  female     2  74.56       47         48         71          60   \n",
       "3  1144     A  female     1  72.89       46         72         38          60   \n",
       "4  1145     A  female     1  70.11       49         45         63          60   \n",
       "\n",
       "   Probability  Measure from1 from2 from3  from4  y  Avg_Calc  \n",
       "0           74       71     A     A     A      3  0      84.0  \n",
       "1           55       62     B     A     A      2  0      50.5  \n",
       "2           61       68     C     A     A      0  1      59.5  \n",
       "3           29       54     D     A     A      0  0      55.0  \n",
       "4           66       66     E     A     A      0  0      54.0  "
      ]
     },
     "execution_count": 20,
     "metadata": {},
     "output_type": "execute_result"
    }
   ],
   "source": [
    "#Let's check the head \n",
    "\n",
    "students.head()"
   ]
  },
  {
   "cell_type": "markdown",
   "id": "020fc413",
   "metadata": {
    "slideshow": {
     "slide_type": "slide"
    }
   },
   "source": [
    "### Step 8:  Write out your new dataframe to a csv\n",
    "\n",
    "- This helps you not have to go back and rerun all the cells each time you want to work with your changed data \n",
    "- Always save it as a **NEW FILE** as to not overwrite the original \n"
   ]
  },
  {
   "cell_type": "code",
   "execution_count": 21,
   "id": "d89f31df",
   "metadata": {
    "slideshow": {
     "slide_type": "fragment"
    }
   },
   "outputs": [],
   "source": [
    "students.to_csv(\"new_students_04102023.csv\")"
   ]
  },
  {
   "cell_type": "markdown",
   "id": "bae3ed67",
   "metadata": {
    "slideshow": {
     "slide_type": "slide"
    }
   },
   "source": [
    "## Summary \n",
    "\n",
    "- Pandas is a great package for data exploration and manipulation \n",
    "- Everything in Python is an OBJECT -- objects have specific methods and attributes \n",
    "- Statistical summaries are great in exploring your data \n",
    "- Visuals can help explore your data more and create a clearer picture \n",
    "- Variables can easily be created or dropped by using Pandas \n",
    "- Spend tons of time knowing what is in and NOT IN your data :) "
   ]
  },
  {
   "cell_type": "markdown",
   "id": "0afd8dcd",
   "metadata": {
    "slideshow": {
     "slide_type": "slide"
    }
   },
   "source": [
    "<h1><center>The End</center></h1>\n",
    "<h2><center>@LearningwithJelly</center></h2>"
   ]
  },
  {
   "cell_type": "code",
   "execution_count": 22,
   "id": "59b2964b",
   "metadata": {
    "slideshow": {
     "slide_type": "skip"
    }
   },
   "outputs": [
    {
     "data": {
      "text/plain": [
       "{'theme': 'white',\n",
       " 'transition': 'fade',\n",
       " 'start_slideshow_at': 'selected',\n",
       " 'autolaunch': False,\n",
       " 'width': '90%',\n",
       " 'height': '110%',\n",
       " 'header': '  <h3>String Methods Part 4</h3>',\n",
       " 'footer': '  <h6>Learning with Jelly</h6>',\n",
       " 'scroll': True,\n",
       " 'enable_chalkboard': True,\n",
       " 'slideNumber': True,\n",
       " 'center': False,\n",
       " 'controlsLayout': 'edges',\n",
       " 'hash': True}"
      ]
     },
     "execution_count": 22,
     "metadata": {},
     "output_type": "execute_result"
    }
   ],
   "source": [
    "from traitlets.config.manager import BaseJSONConfigManager\n",
    "from pathlib import Path\n",
    "path = Path.home() / \".jupyter\" / \"nbconfig\"\n",
    "cm = BaseJSONConfigManager(config_dir=str(path))\n",
    "cm.update(\n",
    "    \"rise\",\n",
    "    {\n",
    "        \"theme\": \"white\",\n",
    "        \"transition\": \"fade\",\n",
    "        \"start_slideshow_at\": \"selected\",\n",
    "        \"footer\": \"  <h6>Learning with Jelly</h6>\",\n",
    "        \"header\": \"  <h3>Intro to Pandas - Part 1</h3>\",\n",
    "        \"width\":  \"90%\",\n",
    "        \"height\": \"110%\",\n",
    "        \"enable_chalkboard\": True\n",
    "     }\n",
    ")"
   ]
  }
 ],
 "metadata": {
  "celltoolbar": "Slideshow",
  "kernelspec": {
   "display_name": "Python 3",
   "language": "python",
   "name": "python3"
  },
  "language_info": {
   "codemirror_mode": {
    "name": "ipython",
    "version": 3
   },
   "file_extension": ".py",
   "mimetype": "text/x-python",
   "name": "python",
   "nbconvert_exporter": "python",
   "pygments_lexer": "ipython3",
   "version": "3.8.8"
  }
 },
 "nbformat": 4,
 "nbformat_minor": 5
}
