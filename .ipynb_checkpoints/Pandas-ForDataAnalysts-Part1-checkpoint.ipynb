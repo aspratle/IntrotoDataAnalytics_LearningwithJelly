{
 "cells": [
  {
   "cell_type": "markdown",
   "id": "b4cd1bc1",
   "metadata": {
    "slideshow": {
     "slide_type": "slide"
    }
   },
   "source": [
    "<h1><center>Intro to Pandas for Data Analysts</center></h1>\n",
    "<h3><center>(PART 1)</center></h3>\n",
    "\n",
    "![Pandas](images/pandas.png)\n"
   ]
  },
  {
   "cell_type": "markdown",
   "id": "5bbef502",
   "metadata": {
    "slideshow": {
     "slide_type": "slide"
    }
   },
   "source": [
    "## Agenda\n",
    "\n",
    "- How to fetch down a repo from Github (follow along) \n",
    "- Jupyter Interface (Hot Keys) \n",
    "- Pandas Package \n",
    "- Read in Data \n",
    "- Explore the Data \n",
    "- Summary Statistics \n",
    "- Data Visuals\n",
    "- Variables (Features)\n",
    "- Write out data to csv file "
   ]
  },
  {
   "cell_type": "markdown",
   "id": "30370bd5",
   "metadata": {
    "slideshow": {
     "slide_type": "slide"
    }
   },
   "source": [
    "## Jupyter Hot Keys (most work in Colab too!) \n",
    "\n",
    "- `esc` + `a` (add a cell above) \n",
    "- `esc` + `b` (add a cell below) \n",
    "- `esc` + `d` + `d` (delete a cell)\n",
    "- `esc` + `z` (undo)\n",
    "- `esc` + `m` (markdown cell for text) \n",
    "- `esc` + `y` (code cell)\n",
    "- `shift` + `return` (run a cell)\n",
    "\n",
    "**hitting `esc` + `h` or go to HELP in the navigation bar to view all shortcuts**"
   ]
  },
  {
   "cell_type": "markdown",
   "id": "873a93b5",
   "metadata": {
    "slideshow": {
     "slide_type": "slide"
    }
   },
   "source": [
    "## What is pandas \n",
    "\n",
    "- Pandas is a python **package** (or library) that has built in **data manipulation** and **data exploration** functionality \n",
    "- A **package** contains classes, objects, methods, and attributes (yes that's a lot) \n",
    "- **Packages** help us **NOT** reinvent the wheel and use code that has already been packaged up nicely for us :) \n",
    "\n",
    "- Pandas has **two** main **objects** -- `DataFrames` and `Series` \n",
    "- A DataFrame is a 2D-Matrix (it has rows and columns) \n",
    "- A Series is just a single column \n",
    "\n",
    "*Special Note:  Pandas is built off of Numpy*\n",
    "\n",
    "*Always view package documentation: [Documentation Here](https://pandas.pydata.org/docs/reference/frame.html)*"
   ]
  },
  {
   "cell_type": "markdown",
   "id": "fdb514f4",
   "metadata": {
    "slideshow": {
     "slide_type": "slide"
    }
   },
   "source": [
    "## What is an object\n",
    "\n",
    "- EVERYTHING...variables, models, packages, etc are all **objects**\n",
    "- **Objects** are essential in object-oriented programming \n",
    "- Objects are part of **classes** and have specific **methods** and **attributes**\n",
    "- **Methods** are like actions \n",
    "- **Attributes** are like properties or characteristics \n",
    "\n",
    "- As said above we will be using **methods** and **attributes** that apply to **DataFrames** or **Series** objects \n",
    "\n",
    "\n",
    "![Basketball-OOP](images/oop.png)"
   ]
  },
  {
   "cell_type": "markdown",
   "id": "497a6010",
   "metadata": {
    "slideshow": {
     "slide_type": "slide"
    }
   },
   "source": [
    "## The DATA \n",
    "\n",
    "- Dataset is the `students.csv` file in the data folder taken from [Kaggle](https://www.kaggle.com/datasets/erqizhou/students-data-analysis?resource=download)\n",
    "- It is a fictional dataset, however, the goal is to analyze the data to see what may impact a student's probability in applying for graduate school \n",
    "- Race is a censored feature (still may be useful)\n",
    "- Assume the higher the math score the better the academic performance in that math subject \n",
    "- `form1-form4` columns are censored and represents a students background (data dictionary can be found on Kaggle link above)\n",
    "\n",
    "- The target variable, y, is 0: failed to apply, 1: applied within country, 2: applied abroad"
   ]
  },
  {
   "cell_type": "markdown",
   "id": "ebbda358",
   "metadata": {
    "slideshow": {
     "slide_type": "subslide"
    }
   },
   "source": [
    "### Step 1:  Import pandas package "
   ]
  },
  {
   "cell_type": "code",
   "execution_count": null,
   "id": "3cfb684c",
   "metadata": {
    "slideshow": {
     "slide_type": "fragment"
    }
   },
   "outputs": [],
   "source": [
    "#pd is considered an alias so we don't have to type pandas each time\n",
    "\n",
    "import pandas as pd "
   ]
  },
  {
   "cell_type": "markdown",
   "id": "54c1d0f5",
   "metadata": {
    "slideshow": {
     "slide_type": "slide"
    }
   },
   "source": [
    "### Step 2:  Read in a `.csv` file as a Pandas DataFrame Object "
   ]
  },
  {
   "cell_type": "code",
   "execution_count": null,
   "id": "6ad07dee",
   "metadata": {
    "slideshow": {
     "slide_type": "fragment"
    }
   },
   "outputs": [],
   "source": [
    "students = pd.read_csv('data/students.csv')"
   ]
  },
  {
   "cell_type": "markdown",
   "id": "3b3b657e",
   "metadata": {
    "slideshow": {
     "slide_type": "slide"
    }
   },
   "source": [
    "### Step 3: Explore the data \n",
    "\n",
    "- We will use **METHODS** first\n",
    "\n",
    "*Recall:  Many methods end with a set of parentheses and perform some ACTION* \n",
    "\n",
    "First we will look at the **top** and **bottom** of the DataFrame"
   ]
  },
  {
   "cell_type": "code",
   "execution_count": null,
   "id": "2ff4d8c2",
   "metadata": {
    "slideshow": {
     "slide_type": "fragment"
    }
   },
   "outputs": [],
   "source": [
    "students.head()"
   ]
  },
  {
   "cell_type": "code",
   "execution_count": null,
   "id": "02f1e0fc",
   "metadata": {
    "slideshow": {
     "slide_type": "fragment"
    }
   },
   "outputs": [],
   "source": [
    "students.tail()"
   ]
  },
  {
   "cell_type": "markdown",
   "id": "0642dc49",
   "metadata": {
    "slideshow": {
     "slide_type": "slide"
    }
   },
   "source": [
    "Next let's explore some INFORMATION about the data using the `.info()` method.  Can you think of how we would code this?"
   ]
  },
  {
   "cell_type": "code",
   "execution_count": null,
   "id": "91d586c9",
   "metadata": {
    "slideshow": {
     "slide_type": "fragment"
    }
   },
   "outputs": [],
   "source": [
    "#Use .info() to explore the data \n",
    "\n"
   ]
  },
  {
   "cell_type": "markdown",
   "id": "c4ec94ae",
   "metadata": {
    "slideshow": {
     "slide_type": "fragment"
    }
   },
   "source": [
    "What all does the info method tell you?\n",
    "Are there any missing values?\n",
    "Do Datatypes make sense? \n",
    "\n",
    "\n",
    "Write some markdown in this block"
   ]
  },
  {
   "cell_type": "markdown",
   "id": "adcb1ca9",
   "metadata": {
    "slideshow": {
     "slide_type": "slide"
    }
   },
   "source": [
    "Now let's look at some **ATTRIBUTES** (properties)\n",
    "\n",
    "*Recall many attributes don't end with closing parentheses and are characteristics of an object.  The object is still a dataframe*\n",
    "\n",
    "We will start by using the `.shape` attribute."
   ]
  },
  {
   "cell_type": "code",
   "execution_count": null,
   "id": "7cf93f63",
   "metadata": {
    "slideshow": {
     "slide_type": "fragment"
    }
   },
   "outputs": [],
   "source": [
    "students.shape\n",
    "\n",
    "#What is the output telling you? "
   ]
  },
  {
   "cell_type": "markdown",
   "id": "ad9f57b1",
   "metadata": {
    "slideshow": {
     "slide_type": "slide"
    }
   },
   "source": [
    "Now, look at the `.columns` attribute.  What is the output?"
   ]
  },
  {
   "cell_type": "code",
   "execution_count": null,
   "id": "86842e0e",
   "metadata": {
    "slideshow": {
     "slide_type": "fragment"
    }
   },
   "outputs": [],
   "source": [
    "#Use .columns on the students data \n"
   ]
  },
  {
   "cell_type": "markdown",
   "id": "6017345e",
   "metadata": {
    "slideshow": {
     "slide_type": "slide"
    }
   },
   "source": [
    "### Step 4:  Use Statistical Summaries to further explore the data\n",
    "\n",
    "- Summary statistics usually include the count, min, max, standard deviation, mean, and more \n",
    "- It is important to look at summary statistics across many subsets of your data (stats by group, gender, location, etc.) \n",
    "\n",
    "We will start by using the `.describe` method to obtain summary stats for numeric features "
   ]
  },
  {
   "cell_type": "code",
   "execution_count": null,
   "id": "b6b60dca",
   "metadata": {
    "slideshow": {
     "slide_type": "fragment"
    }
   },
   "outputs": [],
   "source": [
    "#T means transpose -- flip the rows and columns \n",
    "\n",
    "students.describe().T\n",
    "\n",
    "#Anything stand out? Add a markdown cell and write out your main takeaways "
   ]
  },
  {
   "cell_type": "markdown",
   "id": "3d34f04c",
   "metadata": {
    "slideshow": {
     "slide_type": "slide"
    }
   },
   "source": [
    "The `.crosstab` function can be used to create frequency tables for categorical variables. You can call a specific variable using this syntax: \n",
    "\n",
    "**dataframe['ColumnName']**\n",
    "\n",
    "Let's create a crosstab of `gender` and `class`"
   ]
  },
  {
   "cell_type": "code",
   "execution_count": null,
   "id": "2c97c4df",
   "metadata": {
    "slideshow": {
     "slide_type": "fragment"
    }
   },
   "outputs": [],
   "source": [
    "#Creates a crosstab of gender and class \n",
    "\n",
    "pd.crosstab(students[\"gender\"], students[\"class\"])"
   ]
  },
  {
   "cell_type": "markdown",
   "id": "9f12cb38",
   "metadata": {
    "slideshow": {
     "slide_type": "slide"
    }
   },
   "source": [
    "The `.groupby()` method allows you to get summary statistics of a categorical variable. Combining this with a statistical measure function (i.e. `.mean()`, `.max()`, `.sum()`, etc) will give you that summary across all features  \n",
    "\n",
    "Let's groupby `class`"
   ]
  },
  {
   "cell_type": "code",
   "execution_count": null,
   "id": "9a1d7db4",
   "metadata": {
    "slideshow": {
     "slide_type": "fragment"
    }
   },
   "outputs": [],
   "source": [
    "students.groupby(by='class').mean()"
   ]
  },
  {
   "cell_type": "markdown",
   "id": "4c8c90e5",
   "metadata": {
    "slideshow": {
     "slide_type": "slide"
    }
   },
   "source": [
    "The `.value_counts()` function allows you to do a quick count of each level **WITHIN** a categorical variable. \n",
    "\n",
    "Let's look at the indicator variable, y "
   ]
  },
  {
   "cell_type": "code",
   "execution_count": null,
   "id": "18dcf0a7",
   "metadata": {
    "slideshow": {
     "slide_type": "fragment"
    }
   },
   "outputs": [],
   "source": [
    "students['y'].value_counts()\n",
    "\n",
    "#What does this tell us? "
   ]
  },
  {
   "cell_type": "markdown",
   "id": "16b596f0",
   "metadata": {
    "slideshow": {
     "slide_type": "slide"
    }
   },
   "source": [
    "### Step 5: Visualize the data \n",
    "\n",
    "- Matplotlib is a foundational data viz package \n",
    "- A more 'fancier' package is Seaborn which is built off of Matplotlib \n",
    "- You can also plot using **pandas** \n",
    "- Visualizing data can help us tell **stories** and **data storytelling** is very important \n",
    "\n",
    "Let's use a **bar chart** to visualize the `class` and `gender` crosstab we created above"
   ]
  },
  {
   "cell_type": "code",
   "execution_count": null,
   "id": "3f9d2ab4",
   "metadata": {
    "slideshow": {
     "slide_type": "fragment"
    }
   },
   "outputs": [],
   "source": [
    "#Importing just in case we need it but we will try plotting with pandas \n",
    "\n",
    "import matplotlib.pyplot as plt \n",
    "import seaborn as sns"
   ]
  },
  {
   "cell_type": "code",
   "execution_count": null,
   "id": "167a925c",
   "metadata": {
    "scrolled": true,
    "slideshow": {
     "slide_type": "fragment"
    }
   },
   "outputs": [],
   "source": [
    "#Bar Chart Made in Pandas \n",
    "\n",
    "pd.crosstab(students['class'], students['gender']).plot(kind=\"bar\")"
   ]
  },
  {
   "cell_type": "markdown",
   "id": "01a38d86",
   "metadata": {
    "slideshow": {
     "slide_type": "subslide"
    }
   },
   "source": [
    "Let's create a boxplot of the `GPA` feature using seaborn"
   ]
  },
  {
   "cell_type": "code",
   "execution_count": null,
   "id": "30253721",
   "metadata": {
    "slideshow": {
     "slide_type": "fragment"
    }
   },
   "outputs": [],
   "source": [
    "sns.boxplot(x=students[\"GPA\"])\n",
    "\n",
    "#Do we have any outliers?"
   ]
  },
  {
   "cell_type": "markdown",
   "id": "e882fef0",
   "metadata": {
    "slideshow": {
     "slide_type": "subslide"
    }
   },
   "source": [
    "And a histogram of the `GPA` variable using seaborn "
   ]
  },
  {
   "cell_type": "code",
   "execution_count": null,
   "id": "c4aa76b9",
   "metadata": {
    "slideshow": {
     "slide_type": "fragment"
    }
   },
   "outputs": [],
   "source": [
    "sns.histplot(students[\"GPA\"])"
   ]
  },
  {
   "cell_type": "markdown",
   "id": "0a1af79a",
   "metadata": {
    "slideshow": {
     "slide_type": "subslide"
    }
   },
   "source": [
    "What about a scatterplot between `Calculus1` and `Calculus2` using matplotlib"
   ]
  },
  {
   "cell_type": "code",
   "execution_count": null,
   "id": "77822887",
   "metadata": {
    "slideshow": {
     "slide_type": "fragment"
    }
   },
   "outputs": [],
   "source": [
    "fig, ax = plt.subplots()\n",
    "\n",
    "ax.scatter(students[\"Calculus1\"], students[\"Calculus2\"])\n",
    "plt.show()"
   ]
  },
  {
   "cell_type": "markdown",
   "id": "a5918110",
   "metadata": {
    "slideshow": {
     "slide_type": "slide"
    }
   },
   "source": [
    "### Step 6:  Creating Variables (Optional) \n",
    "\n",
    "- Let's create an average calculus performance variable for our data called `Avg_Calc`"
   ]
  },
  {
   "cell_type": "code",
   "execution_count": null,
   "id": "bd7b60e4",
   "metadata": {
    "slideshow": {
     "slide_type": "fragment"
    }
   },
   "outputs": [],
   "source": [
    "\n",
    "students['Avg_Calc'] = (students['Calculus1'] + students['Calculus2'])/2\n",
    "\n",
    "#Did it work?"
   ]
  },
  {
   "cell_type": "code",
   "execution_count": null,
   "id": "83581940",
   "metadata": {
    "slideshow": {
     "slide_type": "fragment"
    }
   },
   "outputs": [],
   "source": [
    "#Check the head of the data \n"
   ]
  },
  {
   "cell_type": "markdown",
   "id": "e80633db",
   "metadata": {
    "slideshow": {
     "slide_type": "slide"
    }
   },
   "source": [
    "### Step 7:  Dropping Variables (Optional) \n",
    "\n",
    "- Our client doesn't want to consider the class `Functional_analysis` for this project -- let's drop it using the `.drop()` method.\n",
    "\n",
    "- If we are dropping a **row** we use `axis = 0` as an argument within our drop function\n",
    "- If we are dropping a **column** we use `axis = 1` as an argument within our drop function "
   ]
  },
  {
   "cell_type": "code",
   "execution_count": null,
   "id": "696a9e30",
   "metadata": {
    "slideshow": {
     "slide_type": "fragment"
    }
   },
   "outputs": [],
   "source": [
    "students = students.drop(\"Functional_analysis\", axis=1)\n",
    "\n",
    "#Did it work?"
   ]
  },
  {
   "cell_type": "code",
   "execution_count": null,
   "id": "12723dd1",
   "metadata": {
    "slideshow": {
     "slide_type": "fragment"
    }
   },
   "outputs": [],
   "source": [
    "#Let's check the head \n",
    "\n"
   ]
  },
  {
   "cell_type": "markdown",
   "id": "020fc413",
   "metadata": {
    "slideshow": {
     "slide_type": "slide"
    }
   },
   "source": [
    "### Step 8:  Write out your new dataframe to a csv\n",
    "\n",
    "- This helps you not have to go back and rerun all the cells each time you want to work with your changed data \n",
    "- Always save it as a **NEW FILE** as to not overwrite the original \n"
   ]
  },
  {
   "cell_type": "code",
   "execution_count": null,
   "id": "d89f31df",
   "metadata": {
    "slideshow": {
     "slide_type": "fragment"
    }
   },
   "outputs": [],
   "source": [
    "students.to_csv(\"new_students_04102023.csv\")"
   ]
  },
  {
   "cell_type": "markdown",
   "id": "bae3ed67",
   "metadata": {
    "slideshow": {
     "slide_type": "slide"
    }
   },
   "source": [
    "## Summary \n",
    "\n",
    "- Pandas is a great package for data exploration and manipulation \n",
    "- Everything in Python is an OBJECT -- objects have specific methods and attributes \n",
    "- Statistical summaries are great in exploring your data \n",
    "- Visuals can help explore your data more and create a clearer picture \n",
    "- Variables can easily be created or dropped by using Pandas \n",
    "- Spend tons of time knowing what is in and NOT IN your data :) "
   ]
  },
  {
   "cell_type": "markdown",
   "id": "0afd8dcd",
   "metadata": {
    "slideshow": {
     "slide_type": "slide"
    }
   },
   "source": [
    "<h1><center>The End</center></h1>\n",
    "<h2><center>@LearningwithJelly</center></h2>"
   ]
  },
  {
   "cell_type": "code",
   "execution_count": null,
   "id": "59b2964b",
   "metadata": {
    "slideshow": {
     "slide_type": "skip"
    }
   },
   "outputs": [],
   "source": [
    "from traitlets.config.manager import BaseJSONConfigManager\n",
    "from pathlib import Path\n",
    "path = Path.home() / \".jupyter\" / \"nbconfig\"\n",
    "cm = BaseJSONConfigManager(config_dir=str(path))\n",
    "cm.update(\n",
    "    \"rise\",\n",
    "    {\n",
    "        \"theme\": \"white\",\n",
    "        \"transition\": \"fade\",\n",
    "        \"start_slideshow_at\": \"selected\",\n",
    "        \"footer\": \"  <h6>Learning with Jelly</h6>\",\n",
    "        \"header\": \"  <h3>Intro to Pandas - Part 1</h3>\",\n",
    "        \"width\":  \"90%\",\n",
    "        \"height\": \"110%\",\n",
    "        \"enable_chalkboard\": True\n",
    "     }\n",
    ")"
   ]
  },
  {
   "cell_type": "code",
   "execution_count": null,
   "id": "2980470f",
   "metadata": {},
   "outputs": [],
   "source": []
  }
 ],
 "metadata": {
  "celltoolbar": "Slideshow",
  "kernelspec": {
   "display_name": "Python 3",
   "language": "python",
   "name": "python3"
  },
  "language_info": {
   "codemirror_mode": {
    "name": "ipython",
    "version": 3
   },
   "file_extension": ".py",
   "mimetype": "text/x-python",
   "name": "python",
   "nbconvert_exporter": "python",
   "pygments_lexer": "ipython3",
   "version": "3.8.8"
  }
 },
 "nbformat": 4,
 "nbformat_minor": 5
}
